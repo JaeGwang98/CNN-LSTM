{
 "cells": [
  {
   "cell_type": "code",
   "execution_count": 1,
   "id": "f67626e1",
   "metadata": {},
   "outputs": [
    {
     "name": "stderr",
     "output_type": "stream",
     "text": [
      "2022-05-10 20:42:10.825397: I tensorflow/stream_executor/platform/default/dso_loader.cc:53] Successfully opened dynamic library libcudart.so.11.0\n"
     ]
    }
   ],
   "source": [
    "import pandas as pd\n",
    "import numpy as np\n",
    "import os\n",
    "import matplotlib.pyplot as plt\n",
    "from glob import glob\n",
    "from sklearn.model_selection import train_test_split\n",
    "import tensorflow as tf\n",
    "plt.style.use('seaborn-white')\n",
    "from tensorflow.keras import Model\n",
    "from tensorflow.keras.models import Sequential\n",
    "from tensorflow.keras.utils import to_categorical\n",
    "from tensorflow.keras.layers import Dense, Flatten, Conv2D, MaxPool2D, Dropout, Input, LSTM, TimeDistributed, LSTMCell\n",
    "from tensorflow.keras.callbacks import EarlyStopping, ModelCheckpoint\n",
    "from pyts.image import GramianAngularField\n",
    "from scipy.io import wavfile\n",
    "import scipy.signal as signal\n",
    "from PIL import Image\n",
    "import glob\n",
    "from sklearn.model_selection import train_test_split\n",
    "import keras\n",
    "from keras.utils import np_utils\n",
    "import random\n",
    "from scipy import signal"
   ]
  },
  {
   "cell_type": "code",
   "execution_count": 2,
   "id": "c49b6e07",
   "metadata": {},
   "outputs": [],
   "source": [
    "# 폴더 내 파일 개수 반환\n",
    "def get_files_count(path):\n",
    "    count = 0    \n",
    "    for path in os.listdir(path):\n",
    "        count += 1\n",
    "    return count"
   ]
  },
  {
   "cell_type": "code",
   "execution_count": 3,
   "id": "4a377d7f",
   "metadata": {},
   "outputs": [],
   "source": [
    "def my_seed_everywhere(seed: int = 42):\n",
    "    random.seed(seed) # random\n",
    "    np.random.seed(seed) # np\n",
    "    os.environ[\"PYTHONHASHSEED\"] = str(seed) # os\n",
    "    tf.random.set_seed(seed) # tensorflow\n",
    "\n",
    "my_seed = 42\n",
    "my_seed_everywhere(my_seed)"
   ]
  },
  {
   "cell_type": "markdown",
   "id": "d342df60",
   "metadata": {},
   "source": [
    "# MIMII → 32x32 image(Spectro)"
   ]
  },
  {
   "cell_type": "code",
   "execution_count": 4,
   "id": "c39a2d06",
   "metadata": {},
   "outputs": [
    {
     "name": "stderr",
     "output_type": "stream",
     "text": [
      "/tmp/ipykernel_3001199/2446440696.py:11: DeprecationWarning: ANTIALIAS is deprecated and will be removed in Pillow 10 (2023-07-01). Use Resampling.LANCZOS instead.\n",
      "  img = img.resize((32,32), Image.ANTIALIAS)\n"
     ]
    }
   ],
   "source": [
    "#abnormal\n",
    "am_list = []\n",
    "data_path = f\"../data/mimii-anomaly-detection/0_dB/pump/id_00/abnormal\"\n",
    "filelist = sorted(glob.glob(f'{data_path}/*.wav'))\n",
    "for i in range(get_files_count(data_path)-1):\n",
    "    samrate, data = wavfile.read(f\"{filelist[i]}\")#wav read\n",
    "    frequencies, times, spectrogram = signal.spectrogram(data[:,2], samrate)\n",
    "    #Main mic\n",
    "    #fan.5번(4) pump.3번(2) valve.1번(0) slider.7번(6)\n",
    "    img = Image.fromarray(spectrogram)\n",
    "    img = img.resize((32,32), Image.ANTIALIAS)\n",
    "    spectrogram = np.array(img)\n",
    "    am_list.append(spectrogram)#data save\n"
   ]
  },
  {
   "cell_type": "code",
   "execution_count": 5,
   "id": "a18c2368",
   "metadata": {},
   "outputs": [
    {
     "name": "stderr",
     "output_type": "stream",
     "text": [
      "/tmp/ipykernel_3001199/837896892.py:11: DeprecationWarning: ANTIALIAS is deprecated and will be removed in Pillow 10 (2023-07-01). Use Resampling.LANCZOS instead.\n",
      "  img = img.resize((32,32), Image.ANTIALIAS)\n"
     ]
    }
   ],
   "source": [
    "#normal\n",
    "nm_list = []\n",
    "data_path = f\"../data/mimii-anomaly-detection/0_dB/pump/id_00/normal\"\n",
    "filelist = sorted(glob.glob(f'{data_path}/*.wav'))\n",
    "for i in range(get_files_count(data_path)-1):\n",
    "    samrate, data = wavfile.read(f\"{filelist[i]}\")#wav read\n",
    "    frequencies, times, spectrogram = signal.spectrogram(data[:,2], samrate)\n",
    "    #Main mic\n",
    "    #fan.5번(4) pump.3번(2) valve.1번(0) slider.7번(6)\n",
    "    img = Image.fromarray(spectrogram)\n",
    "    img = img.resize((32,32), Image.ANTIALIAS)\n",
    "    spectrogram = np.array(img)\n",
    "    nm_list.append(spectrogram)#data save\n",
    "\n"
   ]
  },
  {
   "cell_type": "code",
   "execution_count": 6,
   "id": "6f3d0663",
   "metadata": {},
   "outputs": [
    {
     "name": "stdout",
     "output_type": "stream",
     "text": [
      "(1005, 1)\n",
      "(142, 1)\n",
      "(1147, 32, 32)\n",
      "(1147, 1)\n"
     ]
    }
   ],
   "source": [
    "Normal = np.array(nm_list)\n",
    "Abnormal = np.array(am_list)\n",
    "\n",
    "# 라벨링, 정상: 0, 비정상: 1\n",
    "normal_Y = np.zeros((Normal.shape[0], 1))\n",
    "abnormal_Y = np.ones((Abnormal.shape[0], 1))\n",
    "\n",
    "print(normal_Y.shape)\n",
    "print(abnormal_Y.shape)\n",
    "\n",
    "X = np.concatenate((Normal,Abnormal))\n",
    "Y = np.concatenate((normal_Y,abnormal_Y))\n",
    "\n",
    "print(X.shape)\n",
    "print(Y.shape)"
   ]
  },
  {
   "cell_type": "code",
   "execution_count": 7,
   "id": "621e3820",
   "metadata": {},
   "outputs": [
    {
     "name": "stdout",
     "output_type": "stream",
     "text": [
      "(917, 32, 32, 1)\n",
      "(184, 32, 32, 1)\n",
      "(46, 32, 32, 1)\n",
      "(917, 1)\n",
      "(184, 1)\n",
      "(46, 1)\n"
     ]
    }
   ],
   "source": [
    "X_train,X_test,Y_train,Y_test=train_test_split(X, Y ,test_size=0.2,shuffle=True, stratify=Y, random_state=my_seed)\n",
    "\n",
    "X_test, X_val, Y_test, Y_val = train_test_split(X_test, Y_test, test_size=0.2, shuffle=True, stratify=Y_test, random_state=my_seed)\n",
    "\n",
    "\n",
    "X_train = X_train.reshape(X_train.shape[0], 32, 32, 1)\n",
    "X_test = X_test.reshape(X_test.shape[0], 32, 32, 1)\n",
    "X_val = X_val.reshape(X_val.shape[0], 32, 32, 1)\n",
    "\n",
    "X_train = X_train.astype('float32') / 255.\n",
    "X_test = X_test.astype('float32') / 255.\n",
    "X_val = X_val.astype('float32') / 255.\n",
    "\n",
    "\n",
    "#X_train = (X_train - np.min(X_train)) / (np.max(X_train)- np.min(X_train))\n",
    "#X_test = (X_test - np.min(X_test)) / (np.max(X_test)- np.min(X_test))\n",
    "#X_val = (X_val - np.min(X_val)) / (np.max(X_val)- np.min(X_val))\n",
    "\n",
    "print(X_train.shape)\n",
    "print(X_test.shape)\n",
    "print(X_val.shape)\n",
    "print(Y_train.shape)\n",
    "print(Y_test.shape)\n",
    "print(Y_val.shape)\n",
    "\n"
   ]
  },
  {
   "cell_type": "code",
   "execution_count": 8,
   "id": "1525d341",
   "metadata": {},
   "outputs": [
    {
     "name": "stderr",
     "output_type": "stream",
     "text": [
      "2022-05-10 20:42:16.723596: I tensorflow/stream_executor/platform/default/dso_loader.cc:53] Successfully opened dynamic library libcuda.so.1\n",
      "2022-05-10 20:42:16.766696: I tensorflow/core/common_runtime/gpu/gpu_device.cc:1733] Found device 0 with properties: \n",
      "pciBusID: 0000:17:00.0 name: NVIDIA GeForce RTX 3090 computeCapability: 8.6\n",
      "coreClock: 1.695GHz coreCount: 82 deviceMemorySize: 23.70GiB deviceMemoryBandwidth: 871.81GiB/s\n",
      "2022-05-10 20:42:16.767374: I tensorflow/core/common_runtime/gpu/gpu_device.cc:1733] Found device 1 with properties: \n",
      "pciBusID: 0000:65:00.0 name: NVIDIA GeForce RTX 3090 computeCapability: 8.6\n",
      "coreClock: 1.695GHz coreCount: 82 deviceMemorySize: 23.70GiB deviceMemoryBandwidth: 871.81GiB/s\n",
      "2022-05-10 20:42:16.767407: I tensorflow/stream_executor/platform/default/dso_loader.cc:53] Successfully opened dynamic library libcudart.so.11.0\n",
      "2022-05-10 20:42:16.769288: I tensorflow/stream_executor/platform/default/dso_loader.cc:53] Successfully opened dynamic library libcublas.so.11\n",
      "2022-05-10 20:42:16.769352: I tensorflow/stream_executor/platform/default/dso_loader.cc:53] Successfully opened dynamic library libcublasLt.so.11\n",
      "2022-05-10 20:42:16.769981: I tensorflow/stream_executor/platform/default/dso_loader.cc:53] Successfully opened dynamic library libcufft.so.10\n",
      "2022-05-10 20:42:16.770199: I tensorflow/stream_executor/platform/default/dso_loader.cc:53] Successfully opened dynamic library libcurand.so.10\n",
      "2022-05-10 20:42:16.771958: I tensorflow/stream_executor/platform/default/dso_loader.cc:53] Successfully opened dynamic library libcusolver.so.11\n",
      "2022-05-10 20:42:16.772396: I tensorflow/stream_executor/platform/default/dso_loader.cc:53] Successfully opened dynamic library libcusparse.so.11\n",
      "2022-05-10 20:42:16.772516: I tensorflow/stream_executor/platform/default/dso_loader.cc:53] Successfully opened dynamic library libcudnn.so.8\n",
      "2022-05-10 20:42:16.775014: I tensorflow/core/common_runtime/gpu/gpu_device.cc:1871] Adding visible gpu devices: 0, 1\n",
      "2022-05-10 20:42:16.775395: I tensorflow/core/platform/cpu_feature_guard.cc:142] This TensorFlow binary is optimized with oneAPI Deep Neural Network Library (oneDNN) to use the following CPU instructions in performance-critical operations:  AVX2 AVX512F FMA\n",
      "To enable them in other operations, rebuild TensorFlow with the appropriate compiler flags.\n",
      "2022-05-10 20:42:16.931600: I tensorflow/core/common_runtime/gpu/gpu_device.cc:1733] Found device 0 with properties: \n",
      "pciBusID: 0000:17:00.0 name: NVIDIA GeForce RTX 3090 computeCapability: 8.6\n",
      "coreClock: 1.695GHz coreCount: 82 deviceMemorySize: 23.70GiB deviceMemoryBandwidth: 871.81GiB/s\n",
      "2022-05-10 20:42:16.932400: I tensorflow/core/common_runtime/gpu/gpu_device.cc:1733] Found device 1 with properties: \n",
      "pciBusID: 0000:65:00.0 name: NVIDIA GeForce RTX 3090 computeCapability: 8.6\n",
      "coreClock: 1.695GHz coreCount: 82 deviceMemorySize: 23.70GiB deviceMemoryBandwidth: 871.81GiB/s\n",
      "2022-05-10 20:42:16.934699: I tensorflow/core/common_runtime/gpu/gpu_device.cc:1871] Adding visible gpu devices: 0, 1\n",
      "2022-05-10 20:42:16.934760: I tensorflow/stream_executor/platform/default/dso_loader.cc:53] Successfully opened dynamic library libcudart.so.11.0\n",
      "2022-05-10 20:42:17.555202: I tensorflow/core/common_runtime/gpu/gpu_device.cc:1258] Device interconnect StreamExecutor with strength 1 edge matrix:\n",
      "2022-05-10 20:42:17.555234: I tensorflow/core/common_runtime/gpu/gpu_device.cc:1264]      0 1 \n",
      "2022-05-10 20:42:17.555239: I tensorflow/core/common_runtime/gpu/gpu_device.cc:1277] 0:   N N \n",
      "2022-05-10 20:42:17.555241: I tensorflow/core/common_runtime/gpu/gpu_device.cc:1277] 1:   N N \n",
      "2022-05-10 20:42:17.558114: I tensorflow/core/common_runtime/gpu/gpu_device.cc:1418] Created TensorFlow device (/job:localhost/replica:0/task:0/device:GPU:0 with 22312 MB memory) -> physical GPU (device: 0, name: NVIDIA GeForce RTX 3090, pci bus id: 0000:17:00.0, compute capability: 8.6)\n",
      "2022-05-10 20:42:17.560391: I tensorflow/core/common_runtime/gpu/gpu_device.cc:1418] Created TensorFlow device (/job:localhost/replica:0/task:0/device:GPU:1 with 22312 MB memory) -> physical GPU (device: 1, name: NVIDIA GeForce RTX 3090, pci bus id: 0000:65:00.0, compute capability: 8.6)\n"
     ]
    },
    {
     "name": "stdout",
     "output_type": "stream",
     "text": [
      "Model: \"sequential\"\n",
      "_________________________________________________________________\n",
      "Layer (type)                 Output Shape              Param #   \n",
      "=================================================================\n",
      "conv2d (Conv2D)              (None, 32, 32, 32)        320       \n",
      "_________________________________________________________________\n",
      "conv2d_1 (Conv2D)            (None, 32, 32, 64)        18496     \n",
      "_________________________________________________________________\n",
      "max_pooling2d (MaxPooling2D) (None, 16, 16, 64)        0         \n",
      "_________________________________________________________________\n",
      "dropout (Dropout)            (None, 16, 16, 64)        0         \n",
      "_________________________________________________________________\n",
      "conv2d_2 (Conv2D)            (None, 16, 16, 64)        36928     \n",
      "_________________________________________________________________\n",
      "max_pooling2d_1 (MaxPooling2 (None, 8, 8, 64)          0         \n",
      "_________________________________________________________________\n",
      "dropout_1 (Dropout)          (None, 8, 8, 64)          0         \n",
      "_________________________________________________________________\n",
      "conv2d_3 (Conv2D)            (None, 8, 8, 64)          36928     \n",
      "_________________________________________________________________\n",
      "time_distributed (TimeDistri (None, 8, 512)            0         \n",
      "_________________________________________________________________\n",
      "lstm (LSTM)                  (None, 8, 64)             147712    \n",
      "_________________________________________________________________\n",
      "lstm_1 (LSTM)                (None, 8, 64)             33024     \n",
      "_________________________________________________________________\n",
      "dense (Dense)                (None, 8, 64)             4160      \n",
      "_________________________________________________________________\n",
      "dropout_2 (Dropout)          (None, 8, 64)             0         \n",
      "_________________________________________________________________\n",
      "dense_1 (Dense)              (None, 8, 1)              65        \n",
      "=================================================================\n",
      "Total params: 277,633\n",
      "Trainable params: 277,633\n",
      "Non-trainable params: 0\n",
      "_________________________________________________________________\n"
     ]
    },
    {
     "name": "stderr",
     "output_type": "stream",
     "text": [
      "/media/sda1/anaconda3/envs/cnn-autoencoder/lib/python3.9/site-packages/tensorflow/python/keras/optimizer_v2/optimizer_v2.py:374: UserWarning: The `lr` argument is deprecated, use `learning_rate` instead.\n",
      "  warnings.warn(\n"
     ]
    }
   ],
   "source": [
    "model = Sequential()\n",
    "model.add(Conv2D(32, (3,3), input_shape=(32,32,1), activation='relu', padding='same'))\n",
    "model.add(Conv2D(64, (3,3), activation='relu', padding='same'))\n",
    "model.add(MaxPool2D(pool_size=(2,2)))\n",
    "model.add(Dropout(0.25))\n",
    "model.add(Conv2D(64, (3,3), activation='relu', padding='same'))\n",
    "model.add(MaxPool2D(pool_size=(2,2)))\n",
    "model.add(Dropout(0.25))\n",
    "model.add(Conv2D(64, (3,3), activation='relu', padding='same'))\n",
    "model.add(TimeDistributed(Flatten()))\n",
    "\n",
    "model.add(LSTM(64,return_sequences=True, recurrent_activation='sigmoid'))\n",
    "model.add(LSTM(64,return_sequences=True, recurrent_activation='sigmoid'))\n",
    "model.add(Dense(64, activation='relu'))\n",
    "model.add(Dropout(0.3))\n",
    "model.add(Dense(1, activation='sigmoid'))\n",
    "model.compile(loss='binary_crossentropy', optimizer=tf.keras.optimizers.RMSprop(lr=0.001),metrics=['accuracy'])\n",
    "\n",
    "early_stopping = EarlyStopping(monitor='loss', mode='min', patience=20)\n",
    "model.summary()\n",
    "\n"
   ]
  },
  {
   "cell_type": "code",
   "execution_count": 9,
   "id": "93a853b1",
   "metadata": {},
   "outputs": [
    {
     "name": "stderr",
     "output_type": "stream",
     "text": [
      "2022-05-10 20:42:18.127908: I tensorflow/compiler/mlir/mlir_graph_optimization_pass.cc:176] None of the MLIR Optimization Passes are enabled (registered 2)\n",
      "2022-05-10 20:42:18.146820: I tensorflow/core/platform/profile_utils/cpu_utils.cc:114] CPU Frequency: 4099895000 Hz\n"
     ]
    },
    {
     "name": "stdout",
     "output_type": "stream",
     "text": [
      "Epoch 1/1000\n"
     ]
    },
    {
     "name": "stderr",
     "output_type": "stream",
     "text": [
      "2022-05-10 20:42:20.055037: I tensorflow/stream_executor/platform/default/dso_loader.cc:53] Successfully opened dynamic library libcudnn.so.8\n",
      "2022-05-10 20:42:20.605653: I tensorflow/stream_executor/cuda/cuda_dnn.cc:359] Loaded cuDNN version 8201\n",
      "2022-05-10 20:42:21.375117: W tensorflow/stream_executor/gpu/asm_compiler.cc:191] Falling back to the CUDA driver for PTX compilation; ptxas does not support CC 8.6\n",
      "2022-05-10 20:42:21.375142: W tensorflow/stream_executor/gpu/asm_compiler.cc:194] Used ptxas at ptxas\n",
      "2022-05-10 20:42:21.375219: W tensorflow/stream_executor/gpu/redzone_allocator.cc:314] Unimplemented: ptxas ptxas too old. Falling back to the driver to compile.\n",
      "Relying on driver to perform ptx compilation. \n",
      "Modify $PATH to customize ptxas location.\n",
      "This message will be only logged once.\n",
      "2022-05-10 20:42:21.417022: I tensorflow/stream_executor/platform/default/dso_loader.cc:53] Successfully opened dynamic library libcublas.so.11\n",
      "2022-05-10 20:42:21.930701: I tensorflow/stream_executor/platform/default/dso_loader.cc:53] Successfully opened dynamic library libcublasLt.so.11\n",
      "2022-05-10 20:42:22.116719: I tensorflow/stream_executor/cuda/cuda_blas.cc:1838] TensorFloat-32 will be used for the matrix multiplication. This will only be logged once.\n"
     ]
    },
    {
     "name": "stdout",
     "output_type": "stream",
     "text": [
      "58/58 [==============================] - 6s 21ms/step - loss: 0.3247 - accuracy: 0.9079 - val_loss: 0.1927 - val_accuracy: 0.9497\n",
      "Epoch 2/1000\n",
      "58/58 [==============================] - 1s 10ms/step - loss: 0.2050 - accuracy: 0.9489 - val_loss: 0.2317 - val_accuracy: 0.9457\n",
      "Epoch 3/1000\n",
      "58/58 [==============================] - 1s 10ms/step - loss: 0.1998 - accuracy: 0.9500 - val_loss: 0.2036 - val_accuracy: 0.9477\n",
      "Epoch 4/1000\n",
      "58/58 [==============================] - 1s 11ms/step - loss: 0.1888 - accuracy: 0.9549 - val_loss: 0.1835 - val_accuracy: 0.9524\n",
      "Epoch 5/1000\n",
      "58/58 [==============================] - 1s 11ms/step - loss: 0.1916 - accuracy: 0.9527 - val_loss: 0.2196 - val_accuracy: 0.9457\n",
      "Epoch 6/1000\n",
      "58/58 [==============================] - 1s 11ms/step - loss: 0.2291 - accuracy: 0.9468 - val_loss: 0.1921 - val_accuracy: 0.9511\n",
      "Epoch 7/1000\n",
      "58/58 [==============================] - 1s 11ms/step - loss: 0.1764 - accuracy: 0.9535 - val_loss: 0.2299 - val_accuracy: 0.9504\n",
      "Epoch 8/1000\n",
      "58/58 [==============================] - 1s 11ms/step - loss: 0.1693 - accuracy: 0.9531 - val_loss: 0.2113 - val_accuracy: 0.9497\n",
      "Epoch 9/1000\n",
      "58/58 [==============================] - 1s 11ms/step - loss: 0.1616 - accuracy: 0.9560 - val_loss: 0.1890 - val_accuracy: 0.9538\n",
      "Epoch 10/1000\n",
      "58/58 [==============================] - 1s 11ms/step - loss: 0.1786 - accuracy: 0.9550 - val_loss: 0.2931 - val_accuracy: 0.9490\n",
      "Epoch 11/1000\n",
      "58/58 [==============================] - 1s 11ms/step - loss: 0.1703 - accuracy: 0.9515 - val_loss: 0.1882 - val_accuracy: 0.9524\n",
      "Epoch 12/1000\n",
      "58/58 [==============================] - 1s 11ms/step - loss: 0.1683 - accuracy: 0.9531 - val_loss: 0.1487 - val_accuracy: 0.9572\n",
      "Epoch 13/1000\n",
      "58/58 [==============================] - 1s 11ms/step - loss: 0.1550 - accuracy: 0.9568 - val_loss: 0.1943 - val_accuracy: 0.9511\n",
      "Epoch 14/1000\n",
      "58/58 [==============================] - 1s 10ms/step - loss: 0.1457 - accuracy: 0.9553 - val_loss: 0.1470 - val_accuracy: 0.9538\n",
      "Epoch 15/1000\n",
      "58/58 [==============================] - 1s 11ms/step - loss: 0.1780 - accuracy: 0.9505 - val_loss: 0.1534 - val_accuracy: 0.9518\n",
      "Epoch 16/1000\n",
      "58/58 [==============================] - 1s 11ms/step - loss: 0.1577 - accuracy: 0.9487 - val_loss: 0.1695 - val_accuracy: 0.9524\n",
      "Epoch 17/1000\n",
      "58/58 [==============================] - 1s 11ms/step - loss: 0.1326 - accuracy: 0.9580 - val_loss: 0.1516 - val_accuracy: 0.9470\n",
      "Epoch 18/1000\n",
      "58/58 [==============================] - 1s 11ms/step - loss: 0.1377 - accuracy: 0.9588 - val_loss: 0.1403 - val_accuracy: 0.9715\n",
      "Epoch 19/1000\n",
      "58/58 [==============================] - 1s 11ms/step - loss: 0.1178 - accuracy: 0.9656 - val_loss: 0.2040 - val_accuracy: 0.9423\n",
      "Epoch 20/1000\n",
      "58/58 [==============================] - 1s 10ms/step - loss: 0.1194 - accuracy: 0.9651 - val_loss: 0.0984 - val_accuracy: 0.9694\n",
      "Epoch 21/1000\n",
      "58/58 [==============================] - 1s 11ms/step - loss: 0.1200 - accuracy: 0.9562 - val_loss: 0.1643 - val_accuracy: 0.9531\n",
      "Epoch 22/1000\n",
      "58/58 [==============================] - 1s 10ms/step - loss: 0.1035 - accuracy: 0.9587 - val_loss: 0.0846 - val_accuracy: 0.9721\n",
      "Epoch 23/1000\n",
      "58/58 [==============================] - 1s 11ms/step - loss: 0.1194 - accuracy: 0.9633 - val_loss: 0.1446 - val_accuracy: 0.9640\n",
      "Epoch 24/1000\n",
      "58/58 [==============================] - 1s 10ms/step - loss: 0.1385 - accuracy: 0.9584 - val_loss: 0.1485 - val_accuracy: 0.9558\n",
      "Epoch 25/1000\n",
      "58/58 [==============================] - 1s 11ms/step - loss: 0.1028 - accuracy: 0.9671 - val_loss: 0.1042 - val_accuracy: 0.9674\n",
      "Epoch 26/1000\n",
      "58/58 [==============================] - 1s 11ms/step - loss: 0.0964 - accuracy: 0.9734 - val_loss: 0.1423 - val_accuracy: 0.9620\n",
      "Epoch 27/1000\n",
      "58/58 [==============================] - 1s 11ms/step - loss: 0.1005 - accuracy: 0.9681 - val_loss: 0.1405 - val_accuracy: 0.9674\n",
      "Epoch 28/1000\n",
      "58/58 [==============================] - 1s 11ms/step - loss: 0.0880 - accuracy: 0.9738 - val_loss: 0.0769 - val_accuracy: 0.9783\n",
      "Epoch 29/1000\n",
      "58/58 [==============================] - 1s 10ms/step - loss: 0.0988 - accuracy: 0.9725 - val_loss: 0.1134 - val_accuracy: 0.9674\n",
      "Epoch 30/1000\n",
      "58/58 [==============================] - 1s 11ms/step - loss: 0.1467 - accuracy: 0.9665 - val_loss: 0.1055 - val_accuracy: 0.9769\n",
      "Epoch 31/1000\n",
      "58/58 [==============================] - 1s 11ms/step - loss: 0.0700 - accuracy: 0.9745 - val_loss: 0.0838 - val_accuracy: 0.9844\n",
      "Epoch 32/1000\n",
      "58/58 [==============================] - 1s 11ms/step - loss: 0.0894 - accuracy: 0.9749 - val_loss: 0.1803 - val_accuracy: 0.9667\n",
      "Epoch 33/1000\n",
      "58/58 [==============================] - 1s 11ms/step - loss: 0.0808 - accuracy: 0.9721 - val_loss: 0.0962 - val_accuracy: 0.9783\n",
      "Epoch 34/1000\n",
      "58/58 [==============================] - 1s 11ms/step - loss: 0.0645 - accuracy: 0.9805 - val_loss: 0.1331 - val_accuracy: 0.9721\n",
      "Epoch 35/1000\n",
      "58/58 [==============================] - 1s 11ms/step - loss: 0.0866 - accuracy: 0.9685 - val_loss: 0.3291 - val_accuracy: 0.9239\n",
      "Epoch 36/1000\n",
      "58/58 [==============================] - 1s 11ms/step - loss: 0.0593 - accuracy: 0.9776 - val_loss: 0.1489 - val_accuracy: 0.9681\n",
      "Epoch 37/1000\n",
      "58/58 [==============================] - 1s 10ms/step - loss: 0.0568 - accuracy: 0.9787 - val_loss: 0.0859 - val_accuracy: 0.9783\n",
      "Epoch 38/1000\n",
      "58/58 [==============================] - 1s 11ms/step - loss: 0.0518 - accuracy: 0.9846 - val_loss: 0.0982 - val_accuracy: 0.9837\n",
      "Epoch 39/1000\n",
      "58/58 [==============================] - 1s 11ms/step - loss: 0.0617 - accuracy: 0.9805 - val_loss: 0.1025 - val_accuracy: 0.9776\n",
      "Epoch 40/1000\n",
      "58/58 [==============================] - 1s 11ms/step - loss: 0.0491 - accuracy: 0.9826 - val_loss: 0.0759 - val_accuracy: 0.9891\n",
      "Epoch 41/1000\n",
      "58/58 [==============================] - 1s 10ms/step - loss: 0.0378 - accuracy: 0.9876 - val_loss: 0.1437 - val_accuracy: 0.9735\n",
      "Epoch 42/1000\n",
      "58/58 [==============================] - 1s 10ms/step - loss: 0.0526 - accuracy: 0.9860 - val_loss: 0.1190 - val_accuracy: 0.9837\n",
      "Epoch 43/1000\n",
      "58/58 [==============================] - 1s 11ms/step - loss: 0.0615 - accuracy: 0.9845 - val_loss: 0.1369 - val_accuracy: 0.9735\n",
      "Epoch 44/1000\n",
      "58/58 [==============================] - 1s 11ms/step - loss: 0.0383 - accuracy: 0.9872 - val_loss: 0.1140 - val_accuracy: 0.9837\n",
      "Epoch 45/1000\n",
      "58/58 [==============================] - 1s 11ms/step - loss: 0.0344 - accuracy: 0.9856 - val_loss: 0.1361 - val_accuracy: 0.9803\n",
      "Epoch 46/1000\n",
      "58/58 [==============================] - 1s 11ms/step - loss: 0.0460 - accuracy: 0.9857 - val_loss: 0.1264 - val_accuracy: 0.9837\n",
      "Epoch 47/1000\n",
      "58/58 [==============================] - 1s 11ms/step - loss: 0.0507 - accuracy: 0.9809 - val_loss: 0.1153 - val_accuracy: 0.9783\n",
      "Epoch 48/1000\n",
      "58/58 [==============================] - 1s 10ms/step - loss: 0.0328 - accuracy: 0.9872 - val_loss: 0.0776 - val_accuracy: 0.9817\n",
      "Epoch 49/1000\n",
      "58/58 [==============================] - 1s 11ms/step - loss: 0.0244 - accuracy: 0.9880 - val_loss: 0.1398 - val_accuracy: 0.9783\n",
      "Epoch 50/1000\n",
      "58/58 [==============================] - 1s 11ms/step - loss: 0.0455 - accuracy: 0.9905 - val_loss: 0.1565 - val_accuracy: 0.9783\n",
      "Epoch 51/1000\n",
      "58/58 [==============================] - 1s 11ms/step - loss: 0.0330 - accuracy: 0.9907 - val_loss: 0.1331 - val_accuracy: 0.9789\n",
      "Epoch 52/1000\n",
      "58/58 [==============================] - 1s 10ms/step - loss: 0.0461 - accuracy: 0.9853 - val_loss: 0.1365 - val_accuracy: 0.9783\n",
      "Epoch 53/1000\n",
      "58/58 [==============================] - 1s 10ms/step - loss: 0.0458 - accuracy: 0.9860 - val_loss: 0.0988 - val_accuracy: 0.9810\n",
      "Epoch 54/1000\n",
      "58/58 [==============================] - 1s 11ms/step - loss: 0.0347 - accuracy: 0.9858 - val_loss: 0.2391 - val_accuracy: 0.9395\n",
      "Epoch 55/1000\n",
      "58/58 [==============================] - 1s 11ms/step - loss: 0.0317 - accuracy: 0.9947 - val_loss: 0.1300 - val_accuracy: 0.9817\n",
      "Epoch 56/1000\n",
      "58/58 [==============================] - 1s 10ms/step - loss: 0.0512 - accuracy: 0.9841 - val_loss: 0.1027 - val_accuracy: 0.9871\n",
      "Epoch 57/1000\n",
      "58/58 [==============================] - 1s 11ms/step - loss: 0.0320 - accuracy: 0.9896 - val_loss: 0.2009 - val_accuracy: 0.9721\n",
      "Epoch 58/1000\n"
     ]
    },
    {
     "name": "stdout",
     "output_type": "stream",
     "text": [
      "58/58 [==============================] - 1s 11ms/step - loss: 0.0320 - accuracy: 0.9915 - val_loss: 0.1481 - val_accuracy: 0.9810\n",
      "Epoch 59/1000\n",
      "58/58 [==============================] - 1s 11ms/step - loss: 0.0218 - accuracy: 0.9943 - val_loss: 0.1274 - val_accuracy: 0.9823\n",
      "Epoch 60/1000\n",
      "58/58 [==============================] - 1s 11ms/step - loss: 0.0400 - accuracy: 0.9887 - val_loss: 0.1082 - val_accuracy: 0.9776\n",
      "Epoch 61/1000\n",
      "58/58 [==============================] - 1s 11ms/step - loss: 0.0227 - accuracy: 0.9963 - val_loss: 0.1452 - val_accuracy: 0.9817\n",
      "Epoch 62/1000\n",
      "58/58 [==============================] - 1s 10ms/step - loss: 0.0446 - accuracy: 0.9879 - val_loss: 0.1091 - val_accuracy: 0.9783\n",
      "Epoch 63/1000\n",
      "58/58 [==============================] - 1s 11ms/step - loss: 0.0405 - accuracy: 0.9911 - val_loss: 0.0878 - val_accuracy: 0.9864\n",
      "Epoch 64/1000\n",
      "58/58 [==============================] - 1s 10ms/step - loss: 0.0467 - accuracy: 0.9851 - val_loss: 0.1803 - val_accuracy: 0.9640\n",
      "Epoch 65/1000\n",
      "58/58 [==============================] - 1s 10ms/step - loss: 0.0046 - accuracy: 0.9977 - val_loss: 1.3499 - val_accuracy: 0.8084\n",
      "Epoch 66/1000\n",
      "58/58 [==============================] - 1s 11ms/step - loss: 0.0309 - accuracy: 0.9935 - val_loss: 0.1997 - val_accuracy: 0.9776\n",
      "Epoch 67/1000\n",
      "58/58 [==============================] - 1s 10ms/step - loss: 0.0176 - accuracy: 0.9963 - val_loss: 0.1269 - val_accuracy: 0.9891\n",
      "Epoch 68/1000\n",
      "58/58 [==============================] - 1s 10ms/step - loss: 0.0478 - accuracy: 0.9915 - val_loss: 0.1337 - val_accuracy: 0.9837\n",
      "Epoch 69/1000\n",
      "58/58 [==============================] - 1s 10ms/step - loss: 0.0420 - accuracy: 0.9945 - val_loss: 0.2700 - val_accuracy: 0.9728\n",
      "Epoch 70/1000\n",
      "58/58 [==============================] - 1s 10ms/step - loss: 0.0329 - accuracy: 0.9894 - val_loss: 0.1092 - val_accuracy: 0.9891\n",
      "Epoch 71/1000\n",
      "58/58 [==============================] - 1s 11ms/step - loss: 0.0317 - accuracy: 0.9914 - val_loss: 0.1482 - val_accuracy: 0.9837\n",
      "Epoch 72/1000\n",
      "58/58 [==============================] - 1s 10ms/step - loss: 0.0339 - accuracy: 0.9930 - val_loss: 0.1411 - val_accuracy: 0.9837\n",
      "Epoch 73/1000\n",
      "58/58 [==============================] - 1s 10ms/step - loss: 0.0284 - accuracy: 0.9924 - val_loss: 0.1308 - val_accuracy: 0.9837\n",
      "Epoch 74/1000\n",
      "58/58 [==============================] - 1s 11ms/step - loss: 0.0398 - accuracy: 0.9899 - val_loss: 0.1458 - val_accuracy: 0.9728\n",
      "Epoch 75/1000\n",
      "58/58 [==============================] - 1s 11ms/step - loss: 0.0196 - accuracy: 0.9929 - val_loss: 0.1223 - val_accuracy: 0.9891\n",
      "Epoch 76/1000\n",
      "58/58 [==============================] - 1s 11ms/step - loss: 0.0147 - accuracy: 0.9956 - val_loss: 0.2063 - val_accuracy: 0.9742\n",
      "Epoch 77/1000\n",
      "58/58 [==============================] - 1s 11ms/step - loss: 0.0367 - accuracy: 0.9865 - val_loss: 0.1969 - val_accuracy: 0.9837\n",
      "Epoch 78/1000\n",
      "58/58 [==============================] - 1s 10ms/step - loss: 0.0083 - accuracy: 0.9966 - val_loss: 0.1356 - val_accuracy: 0.9891\n",
      "Epoch 79/1000\n",
      "58/58 [==============================] - 1s 10ms/step - loss: 0.0244 - accuracy: 0.9944 - val_loss: 0.1444 - val_accuracy: 0.9891\n",
      "Epoch 80/1000\n",
      "58/58 [==============================] - 1s 11ms/step - loss: 0.0153 - accuracy: 0.9989 - val_loss: 0.3257 - val_accuracy: 0.9565\n",
      "Epoch 81/1000\n",
      "58/58 [==============================] - 1s 11ms/step - loss: 0.0529 - accuracy: 0.9881 - val_loss: 0.1501 - val_accuracy: 0.9735\n",
      "Epoch 82/1000\n",
      "58/58 [==============================] - 1s 11ms/step - loss: 0.0079 - accuracy: 0.9982 - val_loss: 0.2406 - val_accuracy: 0.9688\n",
      "Epoch 83/1000\n",
      "58/58 [==============================] - 1s 11ms/step - loss: 0.0238 - accuracy: 0.9947 - val_loss: 0.1139 - val_accuracy: 0.9837\n",
      "Epoch 84/1000\n",
      "58/58 [==============================] - 1s 11ms/step - loss: 0.0096 - accuracy: 0.9967 - val_loss: 0.1748 - val_accuracy: 0.9728\n",
      "Epoch 85/1000\n",
      "58/58 [==============================] - 1s 11ms/step - loss: 0.0444 - accuracy: 0.9864 - val_loss: 0.1412 - val_accuracy: 0.9776\n"
     ]
    }
   ],
   "source": [
    "history = model.fit(X_train, Y_train, epochs=1000, validation_data=(X_test, Y_test), batch_size = 16, callbacks=[early_stopping])"
   ]
  },
  {
   "cell_type": "code",
   "execution_count": 10,
   "id": "39432722",
   "metadata": {},
   "outputs": [
    {
     "name": "stdout",
     "output_type": "stream",
     "text": [
      "6/6 - 0s - loss: 0.1412 - accuracy: 0.9776\n",
      "\n",
      "테스트 정확도: 0.9775815010070801\n"
     ]
    }
   ],
   "source": [
    "(test_loss, test_acc) = model.evaluate(X_test,  Y_test, verbose=2)\n",
    "print('\\n테스트 정확도:', test_acc)"
   ]
  },
  {
   "cell_type": "code",
   "execution_count": 11,
   "id": "574a6674",
   "metadata": {},
   "outputs": [
    {
     "data": {
      "image/png": "[encoded data removed]",
      "text/plain": [
       "<Figure size 864x288 with 2 Axes>"
      ]
     },
     "metadata": {},
     "output_type": "display_data"
    }
   ],
   "source": [
    "history.history.keys()\n",
    "\n",
    "plt.figure(figsize=(12,4))\n",
    "plt.subplot(1,2,1)\n",
    "plt.plot(history.history['loss'], 'b--', label='loss')\n",
    "plt.plot(history.history['val_loss'], 'r', label='val_loss')\n",
    "plt.xlabel('Epochs')\n",
    "plt.grid()\n",
    "plt.legend()\n",
    "\n",
    "plt.subplot(1,2,2)\n",
    "plt.plot(history.history['accuracy'], 'b--', label='accuracy')\n",
    "plt.plot(history.history['val_accuracy'], 'r', label='val_accuracy')\n",
    "plt.xlabel('Epochs')\n",
    "plt.title(f\"MIMII STFT test accuarcy: {test_acc}\", loc='left', fontdict = {'fontsize' : 15})\n",
    "plt.grid()\n",
    "plt.legend()\n",
    "\n",
    "\n",
    "plt.show()"
   ]
  },
  {
   "cell_type": "code",
   "execution_count": 17,
   "id": "956c3f7a",
   "metadata": {},
   "outputs": [
    {
     "data": {
      "image/png": "[encoded data removed]",
      "text/plain": [
       "<Figure size 1080x1080 with 10 Axes>"
      ]
     },
     "metadata": {},
     "output_type": "display_data"
    }
   ],
   "source": [
    "from mpl_toolkits.axes_grid1 import ImageGrid\n",
    "random_list = random.sample(range(Y_test.size), 5)\n",
    "\n",
    "fig = plt.figure(figsize=(15, 15))\n",
    "grid = ImageGrid(fig, 111, nrows_ncols=(1,5), axes_pad=0.05, share_all=True, cbar_mode='single')\n",
    "y_predicted = (model.predict(X_test) > 0.5).astype(\"int32\")\n",
    "\n",
    "i = 0\n",
    "for ax, im in zip(grid, [X_test[random_list[0]], X_test[random_list[1]], X_test[random_list[2]], X_test[random_list[3]], X_test[random_list[4]]]):\n",
    "    ground_truth = 'anomaly' if Y_test[random_list[i]][0] == 1.0 else 'normal'\n",
    "    predicted = 'anomaly' if y_predicted[random_list[i]][0] == 1.0 else 'normal'\n",
    "    color = 'g' if ground_truth == predicted else 'r'\n",
    "    ax.set_title(f\"Index : {random_list[i]}\\n\\n\", loc='center')\n",
    "    ax.set_title(f\"Ground_truth : {ground_truth}\\nPredicted : {predicted}\", loc='left', color=color)\n",
    "    im = ax.imshow(im, cmap='rainbow', origin='lower', vmin=-1., vmax=1.)\n",
    "    i = i+1\n",
    "    \n",
    "grid[0].get_yaxis().set_ticks([])\n",
    "grid[0].get_xaxis().set_ticks([])\n",
    "plt.colorbar(im, cax=grid.cbar_axes[0])\n",
    "ax.cax.toggle_label(True)\n",
    "\n",
    "plt.show()"
   ]
  },
  {
   "cell_type": "code",
   "execution_count": 13,
   "id": "2b69b221",
   "metadata": {},
   "outputs": [
    {
     "name": "stdout",
     "output_type": "stream",
     "text": [
      "(184, 8, 1)\n",
      "precision: 0.9876543209876543\n",
      "recall: 0.9876543209876543\n",
      "f1_score: 0.9876543209876543\n"
     ]
    }
   ],
   "source": [
    "\n",
    "from sklearn import metrics\n",
    "print(y_predicted.shape)\n",
    "y_predicted=y_predicted[:,1]\n",
    "print('precision:', metrics.precision_score(Y_test, y_predicted,pos_label=0))\n",
    "print('recall:',metrics.recall_score(Y_test, y_predicted,pos_label=0))\n",
    "print('f1_score:', metrics.f1_score(Y_test, y_predicted,pos_label=0))"
   ]
  },
  {
   "cell_type": "code",
   "execution_count": null,
   "id": "751091f0",
   "metadata": {},
   "outputs": [],
   "source": []
  }
 ],
 "metadata": {
  "kernelspec": {
   "display_name": "cnn-autoencoder",
   "language": "python",
   "name": "cnn-autoencoder"
  },
  "language_info": {
   "codemirror_mode": {
    "name": "ipython",
    "version": 3
   },
   "file_extension": ".py",
   "mimetype": "text/x-python",
   "name": "python",
   "nbconvert_exporter": "python",
   "pygments_lexer": "ipython3",
   "version": "3.9.7"
  }
 },
 "nbformat": 4,
 "nbformat_minor": 5
}
